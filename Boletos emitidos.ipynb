{
 "cells": [
  {
   "cell_type": "code",
   "execution_count": 0,
   "metadata": {
    "application/vnd.databricks.v1+cell": {
     "cellMetadata": {
      "byteLimit": 2048000,
      "rowLimit": 10000
     },
     "inputWidgets": {},
     "nuid": "3a76c94a-da38-4947-b7b0-1b1a0aedb59c",
     "showTitle": false,
     "title": ""
    }
   },
   "outputs": [],
   "source": [
    "from datetime import datetime\n",
    "from delta.tables import DeltaTable\n",
    "from pyspark.sql import Column, DataFrame, Row, SparkSession\n",
    "from pyspark.sql.window import Window\n",
    "from typing import Callable, Dict, List, Optional, Tuple\n",
    "\n",
    "import pyspark.sql.functions as f\n",
    "import pyspark.sql.types as t\n",
    "\n",
    "\n",
    "\n",
    "def mt_get_most_recent_data(data_frame: DataFrame, key_columns: List[str]) -> DataFrame:\n",
    "    df = data_frame.where(        \n",
    "        (data_frame[\"catulz_reg\"] != f.lit(\"D\"))\n",
    "    ).withColumn(\n",
    "        \"row_nmbr\",\n",
    "        f.row_number().over(\n",
    "            Window.partitionBy(\n",
    "                *key_columns\n",
    "            ).orderBy(\n",
    "                data_frame[\"digtao_ptcao\"].desc()\n",
    "            )\n",
    "        )\n",
    "    ).where(\n",
    "        f.col(\"row_nmbr\") == f.lit(1)\n",
    "    )\n",
    "\n",
    "    return df.drop(\"row_nmbr\")\n",
    "\n",
    "def mt_get_spark_session() -> SparkSession:\n",
    "    return (\n",
    "        SparkSession\n",
    "        .builder\n",
    "        .config(\"db_tgt\", \"default\")\n",
    "        .config(\"db_stg\", \"default\")\n",
    "        .enableHiveSupport()\n",
    "        .getOrCreate()\n",
    "    )\n",
    "\n",
    "def mt_log(message: str) -> None:\n",
    "    print(f\"[{datetime.now()}] - {message}\")\n",
    "\n",
    "def mt_table_exists(spark_session: SparkSession, table_path: str) -> bool:\n",
    "    return spark_session.catalog.tableExists(table_path)\n"
   ]
  },
  {
   "cell_type": "code",
   "execution_count": 0,
   "metadata": {
    "application/vnd.databricks.v1+cell": {
     "cellMetadata": {
      "byteLimit": 2048000,
      "rowLimit": 10000
     },
     "inputWidgets": {},
     "nuid": "4f474fb9-154c-43a5-977c-748711fe028f",
     "showTitle": false,
     "title": ""
    }
   },
   "outputs": [],
   "source": [
    "def print_divider(length: int = 40, extra_line_break: bool = True) -> None:\n",
    "    print(\"-\"*length)\n",
    "    (print(\"\\n\") if extra_line_break else None)"
   ]
  },
  {
   "cell_type": "code",
   "execution_count": 0,
   "metadata": {
    "application/vnd.databricks.v1+cell": {
     "cellMetadata": {
      "byteLimit": 2048000,
      "rowLimit": 10000
     },
     "inputWidgets": {},
     "nuid": "f04fe368-8d7d-44cd-9e41-8f9a9f49a511",
     "showTitle": false,
     "title": ""
    }
   },
   "outputs": [
    {
     "output_type": "stream",
     "name": "stdout",
     "output_type": "stream",
     "text": [
      "[2024-09-22 22:19:02.250175] - Início\n[2024-09-22 22:19:02.387118] - Fim\n"
     ]
    }
   ],
   "source": [
    "mt_log(\"Início\")\n",
    "\n",
    "spark_session = mt_get_spark_session()\n",
    "\n",
    "mt_log(\"Fim\")"
   ]
  },
  {
   "cell_type": "code",
   "execution_count": 0,
   "metadata": {
    "application/vnd.databricks.v1+cell": {
     "cellMetadata": {
      "byteLimit": 2048000,
      "rowLimit": 10000
     },
     "inputWidgets": {},
     "nuid": "a638b527-a020-4308-b4c6-abe287d83cb5",
     "showTitle": false,
     "title": ""
    }
   },
   "outputs": [],
   "source": [
    "def get_or_create_ctrl_table(spark_session: SparkSession) -> None:\n",
    "    db_stg: str = spark_session.conf.get(\"db_stg\")\n",
    "    ctrl_table_path: str = f\"{db_stg}.tbleto_emtd_ctrl\"\n",
    "\n",
    "    if (not mt_table_exists(spark_session, ctrl_table_path)):\n",
    "        spark_session.createDataFrame(\n",
    "            [],\n",
    "            schema = t.StructType([\n",
    "                t.StructField(\"caminho_tabela\", t.StringType(), False),\n",
    "                t.StructField(\"digtao_ptcao\", t.StringType(), False)\n",
    "            ])\n",
    "        ).write.partitionBy(\"caminho_tabela\").saveAsTable(ctrl_table_path)\n",
    "\n",
    "    return spark_session.table(ctrl_table_path)\n",
    "\n",
    "def map_boletos_mistos(data_frame: DataFrame) -> DataFrame:\n",
    "    return data_frame.withColumn(\n",
    "        \"cidtfd_bleto\",\n",
    "        f.concat_ws(\n",
    "            \"-\",\n",
    "            data_frame[\"pk_1\"],\n",
    "            data_frame[\"pk_2\"],\n",
    "            data_frame[\"pk_3\"],\n",
    "            data_frame[\"pk_4\"],\n",
    "            data_frame[\"pk_5\"]\n",
    "        )\n",
    "    ).withColumnRenamed(\"digtao_ptcao\", \"digtao_ptcao_boletos_mistos\")\n",
    "    \n",
    "def map_titulos_pend(data_frame: DataFrame) -> DataFrame:\n",
    "    return data_frame.withColumn(\n",
    "        \"cidtfd_bleto\",\n",
    "        f.concat_ws(\n",
    "            \"-\",\n",
    "            data_frame[\"pk_1\"],\n",
    "            data_frame[\"pk_2\"],\n",
    "            data_frame[\"pk_3\"],\n",
    "            data_frame[\"pk_4\"],\n",
    "            data_frame[\"pk_5\"]\n",
    "        )\n",
    "    ).withColumnRenamed(\"digtao_ptcao\", \"digtao_ptcao_titulos_pend\")\n",
    "\n",
    "def merge_tables(spark_session: SparkSession, source_table: DataFrame) -> None:\n",
    "    delta_bleto_emtd: DeltaTable = DeltaTable.forName(spark_session, \"default.tbleto_emtd\")\n",
    "    \n",
    "    insert_map: Dict[str, str] = { }\n",
    "    update_map: Dict[str, str] = { }\n",
    "\n",
    "    for bleto_emtd_column in delta_bleto_emtd.toDF().columns:\n",
    "        map_value: str = (\n",
    "            f\"T1.{bleto_emtd_column}\"\n",
    "            if (bleto_emtd_column in source_table.columns) else\n",
    "            \"NULL\"\n",
    "        )\n",
    "        insert_map[bleto_emtd_column] = map_value\n",
    "\n",
    "        if (map_value != \"NULL\"):\n",
    "            update_map[bleto_emtd_column] = map_value\n",
    "\n",
    "    (\n",
    "        delta_bleto_emtd.alias(\"T0\")\n",
    "        .merge(\n",
    "            source_table.alias(\"T1\"),\n",
    "            \"T0.cidtfd_bleto == T1.cidtfd_bleto\"\n",
    "        )\n",
    "        .whenMatchedUpdate(set = update_map)\n",
    "        .whenNotMatchedInsert(values = insert_map)\n",
    "        .execute()\n",
    "    )\n",
    "\n",
    "def run(spark_session: SparkSession, partition_limit: int = 365) -> None:\n",
    "    ctrl_table: DataFrame = get_or_create_ctrl_table(spark_session)\n",
    "    db_stg: str = spark_session.conf.get(\"db_stg\")\n",
    "    db_tgt: str = spark_session.conf.get(\"db_tgt\")\n",
    "    tbleto_emtd_path: str = \"default.tbleto_emtd\"\n",
    "\n",
    "    if (not mt_table_exists(spark_session, tbleto_emtd_path)):\n",
    "        mt_log(f\"A tabela {tbleto_emtd_path} não existe. Contate o suporte para realizar a criação dela antes de prosseguir.\")\n",
    "        return\n",
    "    \n",
    "    for table_path in [\"default.titulos_pend_hive\", \"default.titulos_pend\", \"default.boletos_mistos_hive\", \"default.boletos_mistos\"]:\n",
    "        mt_log(f\"Realizando merge com a tabela {table_path}\")\n",
    "        if (not mt_table_exists(spark_session, table_path)):\n",
    "            mt_log(\"A tabela não existe. Avançando para a próxima iteração.\")\n",
    "            continue\n",
    "\n",
    "        ctrl_table_table_partitions: DataFrame = ctrl_table.where(ctrl_table[\"caminho_tabela\"] == f.lit(table_path))\n",
    "        source_table_partitions: DataFrame = show_partitions(spark_session, table_path)\n",
    "        partitions_to_merge: DataFrame = source_table_partitions.join(\n",
    "            ctrl_table_table_partitions, (\n",
    "                source_table_partitions[\"digtao_ptcao\"] == ctrl_table_table_partitions[\"digtao_ptcao\"]\n",
    "            ),\n",
    "            how = \"leftanti\"\n",
    "        ).orderBy(\n",
    "            source_table_partitions[\"digtao_ptcao\"]\n",
    "        ).limit(partition_limit)\n",
    "\n",
    "        if (partitions_to_merge.count() == 0):\n",
    "            mt_log(\"Nenhuma partição a ser sincronizada. Avançando para a próxima iteração.\")\n",
    "            continue\n",
    "\n",
    "        source_table: DataFrame = spark_session.table(table_path)\n",
    "        source_table = mt_get_most_recent_data(\n",
    "            source_table.join(\n",
    "                partitions_to_merge,\n",
    "                on = \"digtao_ptcao\",\n",
    "                how = \"inner\"\n",
    "            ),\n",
    "            [\"pk_1\", \"pk_2\", \"pk_3\", \"pk_4\", \"pk_5\"]\n",
    "        )        \n",
    "        merge_tables(\n",
    "            spark_session,\n",
    "            mappers[table_path](source_table)\n",
    "        )\n",
    "\n",
    "        mt_log(\"Salvando dados na tabela de controle.\")\n",
    "        partitions_to_merge.select(\n",
    "            f.lit(table_path).alias(\"caminho_tabela\"),\n",
    "            partitions_to_merge[\"digtao_ptcao\"]\n",
    "        ).write.partitionBy(\"caminho_tabela\").mode(\"append\").saveAsTable(f\"{db_stg}.tbleto_emtd_ctrl\")\n",
    "        mt_log(\"Dados salvos com sucesso.\")\n",
    "\n",
    "mappers: Dict[str, Callable] = {\n",
    "    \"default.boletos_mistos\": map_boletos_mistos,\n",
    "    \"default.boletos_mistos_hive\": map_boletos_mistos,\n",
    "    \"default.titulos_pend\": map_titulos_pend,\n",
    "    \"default.titulos_pend_hive\": map_titulos_pend\n",
    "}"
   ]
  },
  {
   "cell_type": "code",
   "execution_count": 0,
   "metadata": {
    "application/vnd.databricks.v1+cell": {
     "cellMetadata": {
      "byteLimit": 2048000,
      "rowLimit": 10000
     },
     "inputWidgets": {},
     "nuid": "c9d928a9-814e-4927-b04b-ebd0a30d6c8d",
     "showTitle": false,
     "title": ""
    }
   },
   "outputs": [],
   "source": [
    "def show_partitions(spark_session: SparkSession, table_path: str) -> DataFrame:\n",
    "    table_partitions: List[Row] = spark_session.sql(f\"show partitions {table_path}\").collect()\n",
    "    df: DataFrame = None\n",
    "    if (len(table_partitions) > 0):\n",
    "        columns: List[str] = []\n",
    "        partitions: List[Tuple] = []\n",
    "        for partition_row in table_partitions:\n",
    "            current_partition: Tuple = None\n",
    "\n",
    "            for partition_pair in partition_row[\"partition\"].split(\"/\"):\n",
    "                column, value = partition_pair.split(\"=\")\n",
    "                current_partition = (\n",
    "                    (value, )\n",
    "                    if (current_partition is None) else\n",
    "                    current_partition + (value, )\n",
    "                )\n",
    "\n",
    "                if (column not in columns):\n",
    "                    columns.append(column)\n",
    "                \n",
    "            partitions.append(current_partition)\n",
    "\n",
    "        df = spark_session.createDataFrame(\n",
    "            partitions,\n",
    "            schema = columns\n",
    "        )\n",
    "    else:\n",
    "        partition_columns: List[Column] = list(map(\n",
    "            lambda y:\n",
    "            t.StructField(y.name, t.StringType(), True),\n",
    "            filter(\n",
    "                lambda x:\n",
    "                x.isPartition,\n",
    "                spark_session.catalog.listColumns(table_path)\n",
    "            )\n",
    "        ))\n",
    "        df = spark_session.createDataFrame(\n",
    "            [],\n",
    "            schema = t.StructType(partition_columns)\n",
    "        )\n",
    "\n",
    "    return df"
   ]
  },
  {
   "cell_type": "code",
   "execution_count": 0,
   "metadata": {
    "application/vnd.databricks.v1+cell": {
     "cellMetadata": {
      "byteLimit": 2048000,
      "rowLimit": 10000
     },
     "inputWidgets": {},
     "nuid": "7407b146-329b-4391-a19c-833319fe50e1",
     "showTitle": false,
     "title": ""
    }
   },
   "outputs": [
    {
     "output_type": "stream",
     "name": "stdout",
     "output_type": "stream",
     "text": [
      "[2024-09-22 23:45:21.196000] - Realizando merge com a tabela default.titulos_pend_hive\n[2024-09-22 23:45:21.207594] - A tabela não existe. Avançando para a próxima iteração.\n[2024-09-22 23:45:21.207627] - Realizando merge com a tabela default.titulos_pend\n[2024-09-22 23:45:52.343177] - Salvando dados na tabela de controle.\n[2024-09-22 23:45:56.568273] - Dados salvos com sucesso.\n[2024-09-22 23:45:56.568376] - Realizando merge com a tabela default.boletos_mistos_hive\n[2024-09-22 23:45:56.589051] - A tabela não existe. Avançando para a próxima iteração.\n[2024-09-22 23:45:56.589092] - Realizando merge com a tabela default.boletos_mistos\n[2024-09-22 23:46:21.297066] - Salvando dados na tabela de controle.\n[2024-09-22 23:46:24.767732] - Dados salvos com sucesso.\n"
     ]
    }
   ],
   "source": [
    "run(spark_session)"
   ]
  },
  {
   "cell_type": "code",
   "execution_count": 0,
   "metadata": {
    "application/vnd.databricks.v1+cell": {
     "cellMetadata": {
      "byteLimit": 2048000,
      "rowLimit": 10000
     },
     "inputWidgets": {},
     "nuid": "3189dfd1-f2e5-4075-8d94-20132d92fc86",
     "showTitle": false,
     "title": ""
    }
   },
   "outputs": [
    {
     "output_type": "display_data",
     "data": {
      "text/html": [
       "<style scoped>\n",
       "  .table-result-container {\n",
       "    max-height: 300px;\n",
       "    overflow: auto;\n",
       "  }\n",
       "  table, th, td {\n",
       "    border: 1px solid black;\n",
       "    border-collapse: collapse;\n",
       "  }\n",
       "  th, td {\n",
       "    padding: 5px;\n",
       "  }\n",
       "  th {\n",
       "    text-align: left;\n",
       "  }\n",
       "</style><div class='table-result-container'><table class='table-result'><thead style='background-color: white'><tr><th>cidtfd_bleto</th><th>pk_1</th><th>pk_2</th><th>pk_3</th><th>pk_4</th><th>pk_5</th><th>value</th><th>expire_date</th><th>qr_code</th><th>digtao_ptcao_boletos_mistos</th><th>digtao_ptcao_titulos_pend</th></tr></thead><tbody><tr><td>-1758106074</td><td>237</td><td>3860</td><td>2053</td><td>2861</td><td>1798</td><td>561.85</td><td>2024-03-06</td><td>f93c910a-777f-4af2-af69-01f427224ac7</td><td>2024-03-02</td><td>2024-03-07</td></tr><tr><td>2113860051</td><td>237</td><td>6692</td><td>9628</td><td>4274</td><td>6671</td><td>7573.47</td><td>2024-03-06</td><td>null</td><td>null</td><td>2024-03-07</td></tr><tr><td>456478235</td><td>237</td><td>2239</td><td>3129</td><td>7138</td><td>3492</td><td>7071.39</td><td>2023-11-21</td><td>b0d05fa4-3e0a-448b-9d6d-3f6553aa16a6</td><td>2023-10-21</td><td>2023-11-22</td></tr><tr><td>-252113174</td><td>237</td><td>6745</td><td>3683</td><td>6310</td><td>5484</td><td>4079.39</td><td>2023-11-21</td><td>null</td><td>null</td><td>2023-11-22</td></tr><tr><td>-2133693855</td><td>237</td><td>2928</td><td>2151</td><td>2813</td><td>4724</td><td>2055.94</td><td>2024-01-21</td><td>15725912-0684-45fa-b98b-d036e71051d1</td><td>2024-04-27</td><td>2024-01-22</td></tr><tr><td>-1684286119</td><td>237</td><td>7534</td><td>3525</td><td>6307</td><td>4283</td><td>9545.92</td><td>2024-05-07</td><td>0bc7e4c7-8bde-4296-90b9-e045557cd87a</td><td>2023-12-14</td><td>2024-05-08</td></tr><tr><td>-1306641111</td><td>237</td><td>3934</td><td>9038</td><td>4562</td><td>7813</td><td>5349.17</td><td>2024-06-18</td><td>deaab73a-c089-4bbf-9447-852a6a2f50c4</td><td>2023-10-31</td><td>2024-06-19</td></tr><tr><td>-1914687904</td><td>237</td><td>7726</td><td>1501</td><td>3210</td><td>4223</td><td>6023.98</td><td>2024-05-30</td><td>8062e45e-3241-4b4f-90d4-aa699f176cb9</td><td>2024-05-26</td><td>2024-05-31</td></tr><tr><td>-1448806573</td><td>237</td><td>6692</td><td>1205</td><td>9504</td><td>1641</td><td>5917.79</td><td>2023-11-19</td><td>338153b9-9da3-4e32-8f08-d81b437edb93</td><td>2024-07-20</td><td>2023-11-20</td></tr><tr><td>-1051961637</td><td>237</td><td>2403</td><td>2662</td><td>9154</td><td>2787</td><td>3371.66</td><td>2024-08-03</td><td>525e3d2b-a86c-4d6c-b6a9-d66d0bfc2f06</td><td>2024-07-24</td><td>2024-08-04</td></tr><tr><td>-499760986</td><td>237</td><td>5943</td><td>1748</td><td>3348</td><td>2162</td><td>9538.97</td><td>2024-09-20</td><td>83d31c61-9241-4de5-acc6-0622d903d133</td><td>2024-06-09</td><td>2024-09-21</td></tr><tr><td>1069647814</td><td>237</td><td>6594</td><td>8087</td><td>7030</td><td>8915</td><td>1430.37</td><td>2023-12-02</td><td>340a1c1f-60d3-4fa7-8092-ab9d13949e6f</td><td>2024-07-31</td><td>2023-12-03</td></tr><tr><td>-551944279</td><td>237</td><td>1344</td><td>2396</td><td>2202</td><td>1533</td><td>462.84</td><td>2024-02-20</td><td>c092ba31-df25-451c-9caf-f58adf9f64b4</td><td>2024-05-29</td><td>2024-02-21</td></tr><tr><td>1769236978</td><td>237</td><td>7019</td><td>3503</td><td>9282</td><td>3982</td><td>7784.06</td><td>2024-04-27</td><td>de249543-2fa7-4c95-8c3e-7afbf38683ab</td><td>2023-11-09</td><td>2024-04-28</td></tr><tr><td>1497568054</td><td>237</td><td>8809</td><td>4664</td><td>6685</td><td>2012</td><td>9670.81</td><td>2024-08-02</td><td>f5377ace-0dfd-49e7-94da-73de06cb9b86</td><td>2024-04-24</td><td>2024-08-03</td></tr><tr><td>-455738204</td><td>237</td><td>6451</td><td>1882</td><td>6195</td><td>2497</td><td>5919.7</td><td>2023-12-28</td><td>ab104187-beeb-495d-9e47-a5fa33ca2d26</td><td>2024-01-14</td><td>2023-12-29</td></tr><tr><td>-357416981</td><td>237</td><td>9023</td><td>1427</td><td>5498</td><td>1569</td><td>5340.74</td><td>2024-05-13</td><td>9c58f3a7-a044-427c-aeae-5b8f49f80bfb</td><td>2024-03-18</td><td>2024-05-14</td></tr><tr><td>453284021</td><td>237</td><td>6638</td><td>6727</td><td>8938</td><td>7427</td><td>2456.92</td><td>2024-03-14</td><td>6c69b0da-6d8a-4554-8270-61149366165e</td><td>2024-08-07</td><td>2024-03-15</td></tr><tr><td>-58525761</td><td>237</td><td>1336</td><td>2433</td><td>1487</td><td>3708</td><td>2033.44</td><td>2023-11-14</td><td>8674f059-9d41-48ee-80c4-07e7d88efd9b</td><td>2023-12-02</td><td>2023-11-15</td></tr><tr><td>497236781</td><td>237</td><td>2545</td><td>2508</td><td>6633</td><td>1966</td><td>1209.11</td><td>2023-10-05</td><td>7e52cf1c-58ca-4f58-9b4e-71d05dbe6b9c</td><td>2024-01-04</td><td>2023-10-06</td></tr><tr><td>85093218</td><td>237</td><td>8574</td><td>6265</td><td>2218</td><td>6363</td><td>7528.2</td><td>2023-11-22</td><td>1062bc7e-9e91-4b22-990e-ae1461df3562</td><td>2023-12-11</td><td>2023-11-23</td></tr><tr><td>-1535843220</td><td>237</td><td>5838</td><td>3238</td><td>7981</td><td>5553</td><td>6721.62</td><td>2024-06-14</td><td>null</td><td>null</td><td>2024-06-15</td></tr><tr><td>-1122806149</td><td>237</td><td>6314</td><td>1944</td><td>3842</td><td>8711</td><td>9221.5</td><td>2024-06-14</td><td>null</td><td>null</td><td>2024-06-15</td></tr><tr><td>-904285072</td><td>237</td><td>1117</td><td>3256</td><td>4343</td><td>6122</td><td>3280.3</td><td>2024-01-06</td><td>null</td><td>null</td><td>2024-01-07</td></tr><tr><td>-1535524144</td><td>237</td><td>1210</td><td>3491</td><td>7454</td><td>4925</td><td>7529.41</td><td>2024-01-06</td><td>null</td><td>null</td><td>2024-01-07</td></tr><tr><td>2094920681</td><td>237</td><td>1201</td><td>6734</td><td>6438</td><td>9814</td><td>6646.37</td><td>2023-10-12</td><td>null</td><td>null</td><td>2023-10-13</td></tr><tr><td>-646207594</td><td>237</td><td>3076</td><td>1330</td><td>3086</td><td>1429</td><td>4981.12</td><td>2023-10-12</td><td>null</td><td>null</td><td>2023-10-13</td></tr><tr><td>-979481966</td><td>237</td><td>5688</td><td>7665</td><td>5802</td><td>4968</td><td>1390.12</td><td>2024-05-15</td><td>null</td><td>null</td><td>2024-05-16</td></tr><tr><td>-475209858</td><td>237</td><td>7538</td><td>7614</td><td>6643</td><td>7435</td><td>8049.66</td><td>2024-05-15</td><td>null</td><td>null</td><td>2024-05-16</td></tr><tr><td>729256767</td><td>237</td><td>4280</td><td>3719</td><td>5517</td><td>7671</td><td>6386.85</td><td>2023-09-30</td><td>null</td><td>null</td><td>2023-10-01</td></tr><tr><td>1151567743</td><td>237</td><td>9362</td><td>4202</td><td>2612</td><td>6581</td><td>6930.79</td><td>2023-09-30</td><td>null</td><td>null</td><td>2023-10-01</td></tr><tr><td>768021507</td><td>237</td><td>2155</td><td>7196</td><td>5449</td><td>6024</td><td>3048.48</td><td>2024-08-07</td><td>null</td><td>null</td><td>2024-08-08</td></tr><tr><td>484903366</td><td>237</td><td>6399</td><td>2318</td><td>6490</td><td>5000</td><td>2879.14</td><td>2024-08-07</td><td>null</td><td>null</td><td>2024-08-08</td></tr><tr><td>-1115812630</td><td>237</td><td>9982</td><td>6515</td><td>6607</td><td>3918</td><td>8590.86</td><td>2024-05-17</td><td>null</td><td>null</td><td>2024-05-18</td></tr><tr><td>-1837349710</td><td>237</td><td>7686</td><td>1581</td><td>2418</td><td>6586</td><td>9686.76</td><td>2024-07-14</td><td>null</td><td>null</td><td>2024-07-15</td></tr><tr><td>-1139189633</td><td>237</td><td>8952</td><td>8841</td><td>1709</td><td>6621</td><td>2706.44</td><td>2024-06-10</td><td>null</td><td>null</td><td>2024-06-11</td></tr><tr><td>-1377247572</td><td>237</td><td>6473</td><td>4379</td><td>9834</td><td>3113</td><td>214.26</td><td>2024-03-22</td><td>null</td><td>null</td><td>2024-03-23</td></tr><tr><td>-2115845890</td><td>237</td><td>1017</td><td>4796</td><td>1867</td><td>9971</td><td>1136.83</td><td>2024-07-15</td><td>null</td><td>null</td><td>2024-07-16</td></tr><tr><td>-1074685380</td><td>237</td><td>2582</td><td>9851</td><td>1425</td><td>2312</td><td>5312.95</td><td>2024-08-16</td><td>null</td><td>null</td><td>2024-08-17</td></tr><tr><td>-1117869543</td><td>237</td><td>1175</td><td>6044</td><td>4440</td><td>2716</td><td>5658.71</td><td>2024-01-19</td><td>null</td><td>null</td><td>2024-01-20</td></tr><tr><td>-1469547245</td><td>237</td><td>6160</td><td>5306</td><td>1209</td><td>3778</td><td>6925.86</td><td>2024-07-12</td><td>null</td><td>null</td><td>2024-07-13</td></tr><tr><td>-1565475822</td><td>237</td><td>7839</td><td>6133</td><td>2255</td><td>9410</td><td>303.17</td><td>2024-07-21</td><td>null</td><td>null</td><td>2024-07-22</td></tr><tr><td>-2093675942</td><td>237</td><td>7636</td><td>6476</td><td>8764</td><td>8901</td><td>2895.62</td><td>2024-01-26</td><td>null</td><td>null</td><td>2024-01-27</td></tr><tr><td>-1529992655</td><td>237</td><td>8249</td><td>7146</td><td>8202</td><td>5204</td><td>2712.61</td><td>2024-06-30</td><td>null</td><td>null</td><td>2024-07-01</td></tr><tr><td>-1391284931</td><td>237</td><td>3153</td><td>4901</td><td>2898</td><td>1765</td><td>7134.49</td><td>2023-10-26</td><td>null</td><td>null</td><td>2023-10-27</td></tr><tr><td>-1874480705</td><td>237</td><td>4776</td><td>6776</td><td>8507</td><td>7518</td><td>9401.58</td><td>2024-02-24</td><td>null</td><td>null</td><td>2024-02-25</td></tr><tr><td>-704203529</td><td>237</td><td>5021</td><td>2918</td><td>2472</td><td>1842</td><td>1890.04</td><td>2024-03-05</td><td>null</td><td>null</td><td>2024-03-06</td></tr><tr><td>1243399209</td><td>237</td><td>9459</td><td>4668</td><td>9592</td><td>8407</td><td>1222.7</td><td>2024-04-13</td><td>null</td><td>null</td><td>2024-04-14</td></tr><tr><td>-901376026</td><td>237</td><td>6295</td><td>7337</td><td>9053</td><td>2498</td><td>1501.26</td><td>2024-03-18</td><td>null</td><td>null</td><td>2024-03-19</td></tr><tr><td>-631562048</td><td>237</td><td>7211</td><td>6615</td><td>6351</td><td>1644</td><td>7423.37</td><td>2023-10-03</td><td>null</td><td>null</td><td>2023-10-04</td></tr><tr><td>-432258640</td><td>237</td><td>5026</td><td>5970</td><td>1641</td><td>4838</td><td>4116.78</td><td>2023-12-08</td><td>null</td><td>null</td><td>2023-12-09</td></tr><tr><td>1723997854</td><td>237</td><td>6351</td><td>4233</td><td>7554</td><td>8400</td><td>9157.47</td><td>2024-08-09</td><td>null</td><td>null</td><td>2024-08-10</td></tr><tr><td>1572805372</td><td>237</td><td>1520</td><td>5912</td><td>6065</td><td>3005</td><td>1225.42</td><td>2024-08-08</td><td>null</td><td>null</td><td>2024-08-09</td></tr><tr><td>1906078596</td><td>237</td><td>6313</td><td>4331</td><td>8848</td><td>3726</td><td>542.59</td><td>2024-06-07</td><td>null</td><td>null</td><td>2024-06-08</td></tr><tr><td>-269692968</td><td>237</td><td>9965</td><td>9293</td><td>3210</td><td>4745</td><td>6549.12</td><td>2024-04-24</td><td>null</td><td>null</td><td>2024-04-25</td></tr><tr><td>-208956357</td><td>237</td><td>1545</td><td>8221</td><td>9064</td><td>3461</td><td>634.33</td><td>2024-07-04</td><td>null</td><td>null</td><td>2024-07-05</td></tr><tr><td>1625067690</td><td>237</td><td>7847</td><td>6657</td><td>4555</td><td>9835</td><td>9808.26</td><td>2024-04-28</td><td>null</td><td>null</td><td>2024-04-29</td></tr><tr><td>1086862939</td><td>237</td><td>4753</td><td>6002</td><td>3611</td><td>4816</td><td>822.84</td><td>2024-04-26</td><td>null</td><td>null</td><td>2024-04-27</td></tr><tr><td>-985144871</td><td>237</td><td>3968</td><td>2459</td><td>3501</td><td>7718</td><td>1343.21</td><td>2024-03-17</td><td>null</td><td>null</td><td>2024-03-18</td></tr><tr><td>-773961552</td><td>237</td><td>1438</td><td>3324</td><td>8215</td><td>1439</td><td>8171.19</td><td>2023-10-23</td><td>null</td><td>null</td><td>2023-10-24</td></tr><tr><td>-92553476</td><td>237</td><td>1355</td><td>6220</td><td>2053</td><td>4314</td><td>4341.28</td><td>2024-02-10</td><td>null</td><td>null</td><td>2024-02-11</td></tr><tr><td>857234636</td><td>237</td><td>5603</td><td>4809</td><td>6035</td><td>9634</td><td>6365.4</td><td>2024-08-20</td><td>null</td><td>null</td><td>2024-08-21</td></tr><tr><td>-81771362</td><td>237</td><td>5115</td><td>2591</td><td>1813</td><td>8327</td><td>5672.73</td><td>2023-10-11</td><td>null</td><td>null</td><td>2023-10-12</td></tr><tr><td>-57527366</td><td>237</td><td>7847</td><td>2500</td><td>2992</td><td>5013</td><td>6725.92</td><td>2023-12-03</td><td>null</td><td>null</td><td>2023-12-04</td></tr><tr><td>522896159</td><td>237</td><td>4863</td><td>1126</td><td>1068</td><td>8039</td><td>5691.18</td><td>2023-10-16</td><td>null</td><td>null</td><td>2023-10-17</td></tr><tr><td>-40511586</td><td>237</td><td>7508</td><td>8595</td><td>3699</td><td>4865</td><td>3817.61</td><td>2024-05-05</td><td>null</td><td>null</td><td>2024-05-06</td></tr><tr><td>603714338</td><td>237</td><td>2952</td><td>6937</td><td>3961</td><td>2422</td><td>8972.0</td><td>2024-02-21</td><td>null</td><td>null</td><td>2024-02-22</td></tr><tr><td>68912403</td><td>237</td><td>1664</td><td>7680</td><td>3163</td><td>1634</td><td>8897.02</td><td>2023-09-29</td><td>null</td><td>null</td><td>2023-09-30</td></tr><tr><td>-7514732</td><td>237</td><td>3702</td><td>6295</td><td>8313</td><td>1766</td><td>1013.35</td><td>2024-02-23</td><td>null</td><td>null</td><td>2024-02-24</td></tr><tr><td>29862768</td><td>237</td><td>4928</td><td>9025</td><td>1348</td><td>3054</td><td>8167.7</td><td>2024-03-28</td><td>null</td><td>null</td><td>2024-03-29</td></tr></tbody></table></div>"
      ]
     },
     "metadata": {
      "application/vnd.databricks.v1+output": {
       "addedWidgets": {},
       "aggData": [],
       "aggError": "",
       "aggOverflow": false,
       "aggSchema": [],
       "aggSeriesLimitReached": false,
       "aggType": "",
       "arguments": {},
       "columnCustomDisplayInfos": {},
       "data": [
        [
         "-1758106074",
         237,
         3860,
         2053,
         2861,
         1798,
         561.85,
         "2024-03-06",
         "f93c910a-777f-4af2-af69-01f427224ac7",
         "2024-03-02",
         "2024-03-07"
        ],
        [
         "2113860051",
         237,
         6692,
         9628,
         4274,
         6671,
         7573.47,
         "2024-03-06",
         null,
         null,
         "2024-03-07"
        ],
        [
         "456478235",
         237,
         2239,
         3129,
         7138,
         3492,
         7071.39,
         "2023-11-21",
         "b0d05fa4-3e0a-448b-9d6d-3f6553aa16a6",
         "2023-10-21",
         "2023-11-22"
        ],
        [
         "-252113174",
         237,
         6745,
         3683,
         6310,
         5484,
         4079.39,
         "2023-11-21",
         null,
         null,
         "2023-11-22"
        ],
        [
         "-2133693855",
         237,
         2928,
         2151,
         2813,
         4724,
         2055.94,
         "2024-01-21",
         "15725912-0684-45fa-b98b-d036e71051d1",
         "2024-04-27",
         "2024-01-22"
        ],
        [
         "-1684286119",
         237,
         7534,
         3525,
         6307,
         4283,
         9545.92,
         "2024-05-07",
         "0bc7e4c7-8bde-4296-90b9-e045557cd87a",
         "2023-12-14",
         "2024-05-08"
        ],
        [
         "-1306641111",
         237,
         3934,
         9038,
         4562,
         7813,
         5349.17,
         "2024-06-18",
         "deaab73a-c089-4bbf-9447-852a6a2f50c4",
         "2023-10-31",
         "2024-06-19"
        ],
        [
         "-1914687904",
         237,
         7726,
         1501,
         3210,
         4223,
         6023.98,
         "2024-05-30",
         "8062e45e-3241-4b4f-90d4-aa699f176cb9",
         "2024-05-26",
         "2024-05-31"
        ],
        [
         "-1448806573",
         237,
         6692,
         1205,
         9504,
         1641,
         5917.79,
         "2023-11-19",
         "338153b9-9da3-4e32-8f08-d81b437edb93",
         "2024-07-20",
         "2023-11-20"
        ],
        [
         "-1051961637",
         237,
         2403,
         2662,
         9154,
         2787,
         3371.66,
         "2024-08-03",
         "525e3d2b-a86c-4d6c-b6a9-d66d0bfc2f06",
         "2024-07-24",
         "2024-08-04"
        ],
        [
         "-499760986",
         237,
         5943,
         1748,
         3348,
         2162,
         9538.97,
         "2024-09-20",
         "83d31c61-9241-4de5-acc6-0622d903d133",
         "2024-06-09",
         "2024-09-21"
        ],
        [
         "1069647814",
         237,
         6594,
         8087,
         7030,
         8915,
         1430.37,
         "2023-12-02",
         "340a1c1f-60d3-4fa7-8092-ab9d13949e6f",
         "2024-07-31",
         "2023-12-03"
        ],
        [
         "-551944279",
         237,
         1344,
         2396,
         2202,
         1533,
         462.84,
         "2024-02-20",
         "c092ba31-df25-451c-9caf-f58adf9f64b4",
         "2024-05-29",
         "2024-02-21"
        ],
        [
         "1769236978",
         237,
         7019,
         3503,
         9282,
         3982,
         7784.06,
         "2024-04-27",
         "de249543-2fa7-4c95-8c3e-7afbf38683ab",
         "2023-11-09",
         "2024-04-28"
        ],
        [
         "1497568054",
         237,
         8809,
         4664,
         6685,
         2012,
         9670.81,
         "2024-08-02",
         "f5377ace-0dfd-49e7-94da-73de06cb9b86",
         "2024-04-24",
         "2024-08-03"
        ],
        [
         "-455738204",
         237,
         6451,
         1882,
         6195,
         2497,
         5919.7,
         "2023-12-28",
         "ab104187-beeb-495d-9e47-a5fa33ca2d26",
         "2024-01-14",
         "2023-12-29"
        ],
        [
         "-357416981",
         237,
         9023,
         1427,
         5498,
         1569,
         5340.74,
         "2024-05-13",
         "9c58f3a7-a044-427c-aeae-5b8f49f80bfb",
         "2024-03-18",
         "2024-05-14"
        ],
        [
         "453284021",
         237,
         6638,
         6727,
         8938,
         7427,
         2456.92,
         "2024-03-14",
         "6c69b0da-6d8a-4554-8270-61149366165e",
         "2024-08-07",
         "2024-03-15"
        ],
        [
         "-58525761",
         237,
         1336,
         2433,
         1487,
         3708,
         2033.44,
         "2023-11-14",
         "8674f059-9d41-48ee-80c4-07e7d88efd9b",
         "2023-12-02",
         "2023-11-15"
        ],
        [
         "497236781",
         237,
         2545,
         2508,
         6633,
         1966,
         1209.11,
         "2023-10-05",
         "7e52cf1c-58ca-4f58-9b4e-71d05dbe6b9c",
         "2024-01-04",
         "2023-10-06"
        ],
        [
         "85093218",
         237,
         8574,
         6265,
         2218,
         6363,
         7528.2,
         "2023-11-22",
         "1062bc7e-9e91-4b22-990e-ae1461df3562",
         "2023-12-11",
         "2023-11-23"
        ],
        [
         "-1535843220",
         237,
         5838,
         3238,
         7981,
         5553,
         6721.62,
         "2024-06-14",
         null,
         null,
         "2024-06-15"
        ],
        [
         "-1122806149",
         237,
         6314,
         1944,
         3842,
         8711,
         9221.5,
         "2024-06-14",
         null,
         null,
         "2024-06-15"
        ],
        [
         "-904285072",
         237,
         1117,
         3256,
         4343,
         6122,
         3280.3,
         "2024-01-06",
         null,
         null,
         "2024-01-07"
        ],
        [
         "-1535524144",
         237,
         1210,
         3491,
         7454,
         4925,
         7529.41,
         "2024-01-06",
         null,
         null,
         "2024-01-07"
        ],
        [
         "2094920681",
         237,
         1201,
         6734,
         6438,
         9814,
         6646.37,
         "2023-10-12",
         null,
         null,
         "2023-10-13"
        ],
        [
         "-646207594",
         237,
         3076,
         1330,
         3086,
         1429,
         4981.12,
         "2023-10-12",
         null,
         null,
         "2023-10-13"
        ],
        [
         "-979481966",
         237,
         5688,
         7665,
         5802,
         4968,
         1390.12,
         "2024-05-15",
         null,
         null,
         "2024-05-16"
        ],
        [
         "-475209858",
         237,
         7538,
         7614,
         6643,
         7435,
         8049.66,
         "2024-05-15",
         null,
         null,
         "2024-05-16"
        ],
        [
         "729256767",
         237,
         4280,
         3719,
         5517,
         7671,
         6386.85,
         "2023-09-30",
         null,
         null,
         "2023-10-01"
        ],
        [
         "1151567743",
         237,
         9362,
         4202,
         2612,
         6581,
         6930.79,
         "2023-09-30",
         null,
         null,
         "2023-10-01"
        ],
        [
         "768021507",
         237,
         2155,
         7196,
         5449,
         6024,
         3048.48,
         "2024-08-07",
         null,
         null,
         "2024-08-08"
        ],
        [
         "484903366",
         237,
         6399,
         2318,
         6490,
         5000,
         2879.14,
         "2024-08-07",
         null,
         null,
         "2024-08-08"
        ],
        [
         "-1115812630",
         237,
         9982,
         6515,
         6607,
         3918,
         8590.86,
         "2024-05-17",
         null,
         null,
         "2024-05-18"
        ],
        [
         "-1837349710",
         237,
         7686,
         1581,
         2418,
         6586,
         9686.76,
         "2024-07-14",
         null,
         null,
         "2024-07-15"
        ],
        [
         "-1139189633",
         237,
         8952,
         8841,
         1709,
         6621,
         2706.44,
         "2024-06-10",
         null,
         null,
         "2024-06-11"
        ],
        [
         "-1377247572",
         237,
         6473,
         4379,
         9834,
         3113,
         214.26,
         "2024-03-22",
         null,
         null,
         "2024-03-23"
        ],
        [
         "-2115845890",
         237,
         1017,
         4796,
         1867,
         9971,
         1136.83,
         "2024-07-15",
         null,
         null,
         "2024-07-16"
        ],
        [
         "-1074685380",
         237,
         2582,
         9851,
         1425,
         2312,
         5312.95,
         "2024-08-16",
         null,
         null,
         "2024-08-17"
        ],
        [
         "-1117869543",
         237,
         1175,
         6044,
         4440,
         2716,
         5658.71,
         "2024-01-19",
         null,
         null,
         "2024-01-20"
        ],
        [
         "-1469547245",
         237,
         6160,
         5306,
         1209,
         3778,
         6925.86,
         "2024-07-12",
         null,
         null,
         "2024-07-13"
        ],
        [
         "-1565475822",
         237,
         7839,
         6133,
         2255,
         9410,
         303.17,
         "2024-07-21",
         null,
         null,
         "2024-07-22"
        ],
        [
         "-2093675942",
         237,
         7636,
         6476,
         8764,
         8901,
         2895.62,
         "2024-01-26",
         null,
         null,
         "2024-01-27"
        ],
        [
         "-1529992655",
         237,
         8249,
         7146,
         8202,
         5204,
         2712.61,
         "2024-06-30",
         null,
         null,
         "2024-07-01"
        ],
        [
         "-1391284931",
         237,
         3153,
         4901,
         2898,
         1765,
         7134.49,
         "2023-10-26",
         null,
         null,
         "2023-10-27"
        ],
        [
         "-1874480705",
         237,
         4776,
         6776,
         8507,
         7518,
         9401.58,
         "2024-02-24",
         null,
         null,
         "2024-02-25"
        ],
        [
         "-704203529",
         237,
         5021,
         2918,
         2472,
         1842,
         1890.04,
         "2024-03-05",
         null,
         null,
         "2024-03-06"
        ],
        [
         "1243399209",
         237,
         9459,
         4668,
         9592,
         8407,
         1222.7,
         "2024-04-13",
         null,
         null,
         "2024-04-14"
        ],
        [
         "-901376026",
         237,
         6295,
         7337,
         9053,
         2498,
         1501.26,
         "2024-03-18",
         null,
         null,
         "2024-03-19"
        ],
        [
         "-631562048",
         237,
         7211,
         6615,
         6351,
         1644,
         7423.37,
         "2023-10-03",
         null,
         null,
         "2023-10-04"
        ],
        [
         "-432258640",
         237,
         5026,
         5970,
         1641,
         4838,
         4116.78,
         "2023-12-08",
         null,
         null,
         "2023-12-09"
        ],
        [
         "1723997854",
         237,
         6351,
         4233,
         7554,
         8400,
         9157.47,
         "2024-08-09",
         null,
         null,
         "2024-08-10"
        ],
        [
         "1572805372",
         237,
         1520,
         5912,
         6065,
         3005,
         1225.42,
         "2024-08-08",
         null,
         null,
         "2024-08-09"
        ],
        [
         "1906078596",
         237,
         6313,
         4331,
         8848,
         3726,
         542.59,
         "2024-06-07",
         null,
         null,
         "2024-06-08"
        ],
        [
         "-269692968",
         237,
         9965,
         9293,
         3210,
         4745,
         6549.12,
         "2024-04-24",
         null,
         null,
         "2024-04-25"
        ],
        [
         "-208956357",
         237,
         1545,
         8221,
         9064,
         3461,
         634.33,
         "2024-07-04",
         null,
         null,
         "2024-07-05"
        ],
        [
         "1625067690",
         237,
         7847,
         6657,
         4555,
         9835,
         9808.26,
         "2024-04-28",
         null,
         null,
         "2024-04-29"
        ],
        [
         "1086862939",
         237,
         4753,
         6002,
         3611,
         4816,
         822.84,
         "2024-04-26",
         null,
         null,
         "2024-04-27"
        ],
        [
         "-985144871",
         237,
         3968,
         2459,
         3501,
         7718,
         1343.21,
         "2024-03-17",
         null,
         null,
         "2024-03-18"
        ],
        [
         "-773961552",
         237,
         1438,
         3324,
         8215,
         1439,
         8171.19,
         "2023-10-23",
         null,
         null,
         "2023-10-24"
        ],
        [
         "-92553476",
         237,
         1355,
         6220,
         2053,
         4314,
         4341.28,
         "2024-02-10",
         null,
         null,
         "2024-02-11"
        ],
        [
         "857234636",
         237,
         5603,
         4809,
         6035,
         9634,
         6365.4,
         "2024-08-20",
         null,
         null,
         "2024-08-21"
        ],
        [
         "-81771362",
         237,
         5115,
         2591,
         1813,
         8327,
         5672.73,
         "2023-10-11",
         null,
         null,
         "2023-10-12"
        ],
        [
         "-57527366",
         237,
         7847,
         2500,
         2992,
         5013,
         6725.92,
         "2023-12-03",
         null,
         null,
         "2023-12-04"
        ],
        [
         "522896159",
         237,
         4863,
         1126,
         1068,
         8039,
         5691.18,
         "2023-10-16",
         null,
         null,
         "2023-10-17"
        ],
        [
         "-40511586",
         237,
         7508,
         8595,
         3699,
         4865,
         3817.61,
         "2024-05-05",
         null,
         null,
         "2024-05-06"
        ],
        [
         "603714338",
         237,
         2952,
         6937,
         3961,
         2422,
         8972.0,
         "2024-02-21",
         null,
         null,
         "2024-02-22"
        ],
        [
         "68912403",
         237,
         1664,
         7680,
         3163,
         1634,
         8897.02,
         "2023-09-29",
         null,
         null,
         "2023-09-30"
        ],
        [
         "-7514732",
         237,
         3702,
         6295,
         8313,
         1766,
         1013.35,
         "2024-02-23",
         null,
         null,
         "2024-02-24"
        ],
        [
         "29862768",
         237,
         4928,
         9025,
         1348,
         3054,
         8167.7,
         "2024-03-28",
         null,
         null,
         "2024-03-29"
        ]
       ],
       "datasetInfos": [],
       "dbfsResultPath": null,
       "isJsonSchema": true,
       "metadata": {},
       "overflow": false,
       "plotOptions": {
        "customPlotOptions": {},
        "displayType": "table",
        "pivotAggregation": null,
        "pivotColumns": null,
        "xColumns": null,
        "yColumns": null
       },
       "removedWidgets": [],
       "schema": [
        {
         "metadata": "{}",
         "name": "cidtfd_bleto",
         "type": "\"string\""
        },
        {
         "metadata": "{}",
         "name": "pk_1",
         "type": "\"integer\""
        },
        {
         "metadata": "{}",
         "name": "pk_2",
         "type": "\"integer\""
        },
        {
         "metadata": "{}",
         "name": "pk_3",
         "type": "\"integer\""
        },
        {
         "metadata": "{}",
         "name": "pk_4",
         "type": "\"integer\""
        },
        {
         "metadata": "{}",
         "name": "pk_5",
         "type": "\"integer\""
        },
        {
         "metadata": "{}",
         "name": "value",
         "type": "\"float\""
        },
        {
         "metadata": "{}",
         "name": "expire_date",
         "type": "\"date\""
        },
        {
         "metadata": "{}",
         "name": "qr_code",
         "type": "\"string\""
        },
        {
         "metadata": "{}",
         "name": "digtao_ptcao_boletos_mistos",
         "type": "\"string\""
        },
        {
         "metadata": "{}",
         "name": "digtao_ptcao_titulos_pend",
         "type": "\"string\""
        }
       ],
       "type": "table"
      }
     },
     "output_type": "display_data"
    }
   ],
   "source": [
    "display(spark_session.table(\"default.tbleto_emtd\"))"
   ]
  },
  {
   "cell_type": "code",
   "execution_count": 0,
   "metadata": {
    "application/vnd.databricks.v1+cell": {
     "cellMetadata": {
      "byteLimit": 2048000,
      "rowLimit": 10000
     },
     "inputWidgets": {},
     "nuid": "3937e873-f10d-4bda-af73-6577b1631c16",
     "showTitle": false,
     "title": ""
    }
   },
   "outputs": [
    {
     "output_type": "display_data",
     "data": {
      "text/html": [
       "<style scoped>\n",
       "  .table-result-container {\n",
       "    max-height: 300px;\n",
       "    overflow: auto;\n",
       "  }\n",
       "  table, th, td {\n",
       "    border: 1px solid black;\n",
       "    border-collapse: collapse;\n",
       "  }\n",
       "  th, td {\n",
       "    padding: 5px;\n",
       "  }\n",
       "  th {\n",
       "    text-align: left;\n",
       "  }\n",
       "</style><div class='table-result-container'><table class='table-result'><thead style='background-color: white'><tr><th>caminho_tabela</th><th>digtao_ptcao</th></tr></thead><tbody><tr><td>default.titulos_pend</td><td>2023-09-24</td></tr><tr><td>default.titulos_pend</td><td>2023-09-27</td></tr><tr><td>default.titulos_pend</td><td>2023-09-30</td></tr><tr><td>default.titulos_pend</td><td>2023-10-01</td></tr><tr><td>default.titulos_pend</td><td>2023-10-04</td></tr><tr><td>default.titulos_pend</td><td>2023-10-06</td></tr><tr><td>default.titulos_pend</td><td>2023-10-12</td></tr><tr><td>default.titulos_pend</td><td>2023-10-13</td></tr><tr><td>default.titulos_pend</td><td>2023-10-17</td></tr><tr><td>default.titulos_pend</td><td>2023-10-20</td></tr><tr><td>default.titulos_pend</td><td>2023-10-24</td></tr><tr><td>default.titulos_pend</td><td>2023-10-27</td></tr><tr><td>default.titulos_pend</td><td>2023-11-15</td></tr><tr><td>default.titulos_pend</td><td>2023-11-19</td></tr><tr><td>default.titulos_pend</td><td>2023-11-20</td></tr><tr><td>default.titulos_pend</td><td>2023-11-22</td></tr><tr><td>default.titulos_pend</td><td>2023-11-23</td></tr><tr><td>default.titulos_pend</td><td>2023-12-03</td></tr><tr><td>default.titulos_pend</td><td>2023-12-04</td></tr><tr><td>default.titulos_pend</td><td>2023-12-09</td></tr><tr><td>default.titulos_pend</td><td>2023-12-29</td></tr><tr><td>default.titulos_pend</td><td>2023-12-31</td></tr><tr><td>default.titulos_pend</td><td>2024-01-07</td></tr><tr><td>default.titulos_pend</td><td>2024-01-12</td></tr><tr><td>default.titulos_pend</td><td>2024-01-20</td></tr><tr><td>default.titulos_pend</td><td>2024-01-22</td></tr><tr><td>default.titulos_pend</td><td>2024-01-27</td></tr><tr><td>default.titulos_pend</td><td>2024-01-30</td></tr><tr><td>default.titulos_pend</td><td>2024-02-11</td></tr><tr><td>default.titulos_pend</td><td>2024-02-14</td></tr><tr><td>default.titulos_pend</td><td>2024-02-18</td></tr><tr><td>default.titulos_pend</td><td>2024-02-21</td></tr><tr><td>default.titulos_pend</td><td>2024-02-22</td></tr><tr><td>default.titulos_pend</td><td>2024-02-24</td></tr><tr><td>default.titulos_pend</td><td>2024-02-25</td></tr><tr><td>default.titulos_pend</td><td>2024-02-29</td></tr><tr><td>default.titulos_pend</td><td>2024-03-03</td></tr><tr><td>default.titulos_pend</td><td>2024-03-05</td></tr><tr><td>default.titulos_pend</td><td>2024-03-06</td></tr><tr><td>default.titulos_pend</td><td>2024-03-07</td></tr><tr><td>default.titulos_pend</td><td>2024-03-11</td></tr><tr><td>default.titulos_pend</td><td>2024-03-15</td></tr><tr><td>default.titulos_pend</td><td>2024-03-18</td></tr><tr><td>default.titulos_pend</td><td>2024-03-19</td></tr><tr><td>default.titulos_pend</td><td>2024-03-23</td></tr><tr><td>default.titulos_pend</td><td>2024-03-29</td></tr><tr><td>default.titulos_pend</td><td>2024-04-14</td></tr><tr><td>default.titulos_pend</td><td>2024-04-17</td></tr><tr><td>default.titulos_pend</td><td>2024-04-22</td></tr><tr><td>default.titulos_pend</td><td>2024-04-25</td></tr><tr><td>default.titulos_pend</td><td>2024-04-27</td></tr><tr><td>default.titulos_pend</td><td>2024-04-28</td></tr><tr><td>default.titulos_pend</td><td>2024-04-29</td></tr><tr><td>default.titulos_pend</td><td>2024-04-30</td></tr><tr><td>default.titulos_pend</td><td>2024-05-02</td></tr><tr><td>default.titulos_pend</td><td>2024-05-06</td></tr><tr><td>default.titulos_pend</td><td>2024-05-07</td></tr><tr><td>default.titulos_pend</td><td>2024-05-08</td></tr><tr><td>default.titulos_pend</td><td>2024-05-11</td></tr><tr><td>default.titulos_pend</td><td>2024-05-14</td></tr><tr><td>default.titulos_pend</td><td>2024-05-16</td></tr><tr><td>default.titulos_pend</td><td>2024-05-18</td></tr><tr><td>default.titulos_pend</td><td>2024-05-31</td></tr><tr><td>default.titulos_pend</td><td>2024-06-08</td></tr><tr><td>default.titulos_pend</td><td>2024-06-09</td></tr><tr><td>default.titulos_pend</td><td>2024-06-11</td></tr><tr><td>default.titulos_pend</td><td>2024-06-15</td></tr><tr><td>default.titulos_pend</td><td>2024-06-19</td></tr><tr><td>default.titulos_pend</td><td>2024-07-01</td></tr><tr><td>default.titulos_pend</td><td>2024-07-05</td></tr><tr><td>default.titulos_pend</td><td>2024-07-13</td></tr><tr><td>default.titulos_pend</td><td>2024-07-15</td></tr><tr><td>default.titulos_pend</td><td>2024-07-16</td></tr><tr><td>default.titulos_pend</td><td>2024-07-22</td></tr><tr><td>default.titulos_pend</td><td>2024-08-03</td></tr><tr><td>default.titulos_pend</td><td>2024-08-04</td></tr><tr><td>default.titulos_pend</td><td>2024-08-08</td></tr><tr><td>default.titulos_pend</td><td>2024-08-09</td></tr><tr><td>default.titulos_pend</td><td>2024-08-10</td></tr><tr><td>default.titulos_pend</td><td>2024-08-11</td></tr><tr><td>default.titulos_pend</td><td>2024-08-14</td></tr><tr><td>default.titulos_pend</td><td>2024-08-17</td></tr><tr><td>default.titulos_pend</td><td>2024-08-21</td></tr><tr><td>default.titulos_pend</td><td>2024-09-03</td></tr><tr><td>default.titulos_pend</td><td>2024-09-09</td></tr><tr><td>default.titulos_pend</td><td>2024-09-19</td></tr><tr><td>default.titulos_pend</td><td>2024-09-21</td></tr><tr><td>default.titulos_pend</td><td>2024-09-22</td></tr><tr><td>default.boletos_mistos</td><td>2023-10-06</td></tr><tr><td>default.boletos_mistos</td><td>2023-10-11</td></tr><tr><td>default.boletos_mistos</td><td>2023-10-12</td></tr><tr><td>default.boletos_mistos</td><td>2023-10-15</td></tr><tr><td>default.boletos_mistos</td><td>2023-10-21</td></tr><tr><td>default.boletos_mistos</td><td>2023-10-22</td></tr><tr><td>default.boletos_mistos</td><td>2023-10-25</td></tr><tr><td>default.boletos_mistos</td><td>2023-10-28</td></tr><tr><td>default.boletos_mistos</td><td>2023-10-29</td></tr><tr><td>default.boletos_mistos</td><td>2023-10-30</td></tr><tr><td>default.boletos_mistos</td><td>2023-10-31</td></tr><tr><td>default.boletos_mistos</td><td>2023-11-01</td></tr><tr><td>default.boletos_mistos</td><td>2023-11-04</td></tr><tr><td>default.boletos_mistos</td><td>2023-11-05</td></tr><tr><td>default.boletos_mistos</td><td>2023-11-06</td></tr><tr><td>default.boletos_mistos</td><td>2023-11-09</td></tr><tr><td>default.boletos_mistos</td><td>2023-11-14</td></tr><tr><td>default.boletos_mistos</td><td>2023-11-15</td></tr><tr><td>default.boletos_mistos</td><td>2023-11-17</td></tr><tr><td>default.boletos_mistos</td><td>2023-11-21</td></tr><tr><td>default.boletos_mistos</td><td>2023-11-23</td></tr><tr><td>default.boletos_mistos</td><td>2023-11-24</td></tr><tr><td>default.boletos_mistos</td><td>2023-11-29</td></tr><tr><td>default.boletos_mistos</td><td>2023-12-01</td></tr><tr><td>default.boletos_mistos</td><td>2023-12-02</td></tr><tr><td>default.boletos_mistos</td><td>2023-12-09</td></tr><tr><td>default.boletos_mistos</td><td>2023-12-11</td></tr><tr><td>default.boletos_mistos</td><td>2023-12-14</td></tr><tr><td>default.boletos_mistos</td><td>2024-01-04</td></tr><tr><td>default.boletos_mistos</td><td>2024-01-08</td></tr><tr><td>default.boletos_mistos</td><td>2024-01-12</td></tr><tr><td>default.boletos_mistos</td><td>2024-01-14</td></tr><tr><td>default.boletos_mistos</td><td>2024-01-18</td></tr><tr><td>default.boletos_mistos</td><td>2024-01-25</td></tr><tr><td>default.boletos_mistos</td><td>2024-02-29</td></tr><tr><td>default.boletos_mistos</td><td>2024-03-02</td></tr><tr><td>default.boletos_mistos</td><td>2024-03-05</td></tr><tr><td>default.boletos_mistos</td><td>2024-03-15</td></tr><tr><td>default.boletos_mistos</td><td>2024-03-18</td></tr><tr><td>default.boletos_mistos</td><td>2024-03-22</td></tr><tr><td>default.boletos_mistos</td><td>2024-03-24</td></tr><tr><td>default.boletos_mistos</td><td>2024-03-26</td></tr><tr><td>default.boletos_mistos</td><td>2024-03-27</td></tr><tr><td>default.boletos_mistos</td><td>2024-04-01</td></tr><tr><td>default.boletos_mistos</td><td>2024-04-02</td></tr><tr><td>default.boletos_mistos</td><td>2024-04-03</td></tr><tr><td>default.boletos_mistos</td><td>2024-04-05</td></tr><tr><td>default.boletos_mistos</td><td>2024-04-10</td></tr><tr><td>default.boletos_mistos</td><td>2024-04-11</td></tr><tr><td>default.boletos_mistos</td><td>2024-04-13</td></tr><tr><td>default.boletos_mistos</td><td>2024-04-14</td></tr><tr><td>default.boletos_mistos</td><td>2024-04-18</td></tr><tr><td>default.boletos_mistos</td><td>2024-04-20</td></tr><tr><td>default.boletos_mistos</td><td>2024-04-23</td></tr><tr><td>default.boletos_mistos</td><td>2024-04-24</td></tr><tr><td>default.boletos_mistos</td><td>2024-04-27</td></tr><tr><td>default.boletos_mistos</td><td>2024-04-30</td></tr><tr><td>default.boletos_mistos</td><td>2024-05-01</td></tr><tr><td>default.boletos_mistos</td><td>2024-05-03</td></tr><tr><td>default.boletos_mistos</td><td>2024-05-10</td></tr><tr><td>default.boletos_mistos</td><td>2024-05-11</td></tr><tr><td>default.boletos_mistos</td><td>2024-05-16</td></tr><tr><td>default.boletos_mistos</td><td>2024-05-17</td></tr><tr><td>default.boletos_mistos</td><td>2024-05-20</td></tr><tr><td>default.boletos_mistos</td><td>2024-05-25</td></tr><tr><td>default.boletos_mistos</td><td>2024-05-26</td></tr><tr><td>default.boletos_mistos</td><td>2024-05-29</td></tr><tr><td>default.boletos_mistos</td><td>2024-06-04</td></tr><tr><td>default.boletos_mistos</td><td>2024-06-09</td></tr><tr><td>default.boletos_mistos</td><td>2024-07-11</td></tr><tr><td>default.boletos_mistos</td><td>2024-07-12</td></tr><tr><td>default.boletos_mistos</td><td>2024-07-14</td></tr><tr><td>default.boletos_mistos</td><td>2024-07-15</td></tr><tr><td>default.boletos_mistos</td><td>2024-07-16</td></tr><tr><td>default.boletos_mistos</td><td>2024-07-18</td></tr><tr><td>default.boletos_mistos</td><td>2024-07-20</td></tr><tr><td>default.boletos_mistos</td><td>2024-07-23</td></tr><tr><td>default.boletos_mistos</td><td>2024-07-24</td></tr><tr><td>default.boletos_mistos</td><td>2024-07-25</td></tr><tr><td>default.boletos_mistos</td><td>2024-07-31</td></tr><tr><td>default.boletos_mistos</td><td>2024-08-01</td></tr><tr><td>default.boletos_mistos</td><td>2024-08-07</td></tr></tbody></table></div>"
      ]
     },
     "metadata": {
      "application/vnd.databricks.v1+output": {
       "addedWidgets": {},
       "aggData": [],
       "aggError": "",
       "aggOverflow": false,
       "aggSchema": [],
       "aggSeriesLimitReached": false,
       "aggType": "",
       "arguments": {},
       "columnCustomDisplayInfos": {},
       "data": [
        [
         "default.titulos_pend",
         "2023-09-24"
        ],
        [
         "default.titulos_pend",
         "2023-09-27"
        ],
        [
         "default.titulos_pend",
         "2023-09-30"
        ],
        [
         "default.titulos_pend",
         "2023-10-01"
        ],
        [
         "default.titulos_pend",
         "2023-10-04"
        ],
        [
         "default.titulos_pend",
         "2023-10-06"
        ],
        [
         "default.titulos_pend",
         "2023-10-12"
        ],
        [
         "default.titulos_pend",
         "2023-10-13"
        ],
        [
         "default.titulos_pend",
         "2023-10-17"
        ],
        [
         "default.titulos_pend",
         "2023-10-20"
        ],
        [
         "default.titulos_pend",
         "2023-10-24"
        ],
        [
         "default.titulos_pend",
         "2023-10-27"
        ],
        [
         "default.titulos_pend",
         "2023-11-15"
        ],
        [
         "default.titulos_pend",
         "2023-11-19"
        ],
        [
         "default.titulos_pend",
         "2023-11-20"
        ],
        [
         "default.titulos_pend",
         "2023-11-22"
        ],
        [
         "default.titulos_pend",
         "2023-11-23"
        ],
        [
         "default.titulos_pend",
         "2023-12-03"
        ],
        [
         "default.titulos_pend",
         "2023-12-04"
        ],
        [
         "default.titulos_pend",
         "2023-12-09"
        ],
        [
         "default.titulos_pend",
         "2023-12-29"
        ],
        [
         "default.titulos_pend",
         "2023-12-31"
        ],
        [
         "default.titulos_pend",
         "2024-01-07"
        ],
        [
         "default.titulos_pend",
         "2024-01-12"
        ],
        [
         "default.titulos_pend",
         "2024-01-20"
        ],
        [
         "default.titulos_pend",
         "2024-01-22"
        ],
        [
         "default.titulos_pend",
         "2024-01-27"
        ],
        [
         "default.titulos_pend",
         "2024-01-30"
        ],
        [
         "default.titulos_pend",
         "2024-02-11"
        ],
        [
         "default.titulos_pend",
         "2024-02-14"
        ],
        [
         "default.titulos_pend",
         "2024-02-18"
        ],
        [
         "default.titulos_pend",
         "2024-02-21"
        ],
        [
         "default.titulos_pend",
         "2024-02-22"
        ],
        [
         "default.titulos_pend",
         "2024-02-24"
        ],
        [
         "default.titulos_pend",
         "2024-02-25"
        ],
        [
         "default.titulos_pend",
         "2024-02-29"
        ],
        [
         "default.titulos_pend",
         "2024-03-03"
        ],
        [
         "default.titulos_pend",
         "2024-03-05"
        ],
        [
         "default.titulos_pend",
         "2024-03-06"
        ],
        [
         "default.titulos_pend",
         "2024-03-07"
        ],
        [
         "default.titulos_pend",
         "2024-03-11"
        ],
        [
         "default.titulos_pend",
         "2024-03-15"
        ],
        [
         "default.titulos_pend",
         "2024-03-18"
        ],
        [
         "default.titulos_pend",
         "2024-03-19"
        ],
        [
         "default.titulos_pend",
         "2024-03-23"
        ],
        [
         "default.titulos_pend",
         "2024-03-29"
        ],
        [
         "default.titulos_pend",
         "2024-04-14"
        ],
        [
         "default.titulos_pend",
         "2024-04-17"
        ],
        [
         "default.titulos_pend",
         "2024-04-22"
        ],
        [
         "default.titulos_pend",
         "2024-04-25"
        ],
        [
         "default.titulos_pend",
         "2024-04-27"
        ],
        [
         "default.titulos_pend",
         "2024-04-28"
        ],
        [
         "default.titulos_pend",
         "2024-04-29"
        ],
        [
         "default.titulos_pend",
         "2024-04-30"
        ],
        [
         "default.titulos_pend",
         "2024-05-02"
        ],
        [
         "default.titulos_pend",
         "2024-05-06"
        ],
        [
         "default.titulos_pend",
         "2024-05-07"
        ],
        [
         "default.titulos_pend",
         "2024-05-08"
        ],
        [
         "default.titulos_pend",
         "2024-05-11"
        ],
        [
         "default.titulos_pend",
         "2024-05-14"
        ],
        [
         "default.titulos_pend",
         "2024-05-16"
        ],
        [
         "default.titulos_pend",
         "2024-05-18"
        ],
        [
         "default.titulos_pend",
         "2024-05-31"
        ],
        [
         "default.titulos_pend",
         "2024-06-08"
        ],
        [
         "default.titulos_pend",
         "2024-06-09"
        ],
        [
         "default.titulos_pend",
         "2024-06-11"
        ],
        [
         "default.titulos_pend",
         "2024-06-15"
        ],
        [
         "default.titulos_pend",
         "2024-06-19"
        ],
        [
         "default.titulos_pend",
         "2024-07-01"
        ],
        [
         "default.titulos_pend",
         "2024-07-05"
        ],
        [
         "default.titulos_pend",
         "2024-07-13"
        ],
        [
         "default.titulos_pend",
         "2024-07-15"
        ],
        [
         "default.titulos_pend",
         "2024-07-16"
        ],
        [
         "default.titulos_pend",
         "2024-07-22"
        ],
        [
         "default.titulos_pend",
         "2024-08-03"
        ],
        [
         "default.titulos_pend",
         "2024-08-04"
        ],
        [
         "default.titulos_pend",
         "2024-08-08"
        ],
        [
         "default.titulos_pend",
         "2024-08-09"
        ],
        [
         "default.titulos_pend",
         "2024-08-10"
        ],
        [
         "default.titulos_pend",
         "2024-08-11"
        ],
        [
         "default.titulos_pend",
         "2024-08-14"
        ],
        [
         "default.titulos_pend",
         "2024-08-17"
        ],
        [
         "default.titulos_pend",
         "2024-08-21"
        ],
        [
         "default.titulos_pend",
         "2024-09-03"
        ],
        [
         "default.titulos_pend",
         "2024-09-09"
        ],
        [
         "default.titulos_pend",
         "2024-09-19"
        ],
        [
         "default.titulos_pend",
         "2024-09-21"
        ],
        [
         "default.titulos_pend",
         "2024-09-22"
        ],
        [
         "default.boletos_mistos",
         "2023-10-06"
        ],
        [
         "default.boletos_mistos",
         "2023-10-11"
        ],
        [
         "default.boletos_mistos",
         "2023-10-12"
        ],
        [
         "default.boletos_mistos",
         "2023-10-15"
        ],
        [
         "default.boletos_mistos",
         "2023-10-21"
        ],
        [
         "default.boletos_mistos",
         "2023-10-22"
        ],
        [
         "default.boletos_mistos",
         "2023-10-25"
        ],
        [
         "default.boletos_mistos",
         "2023-10-28"
        ],
        [
         "default.boletos_mistos",
         "2023-10-29"
        ],
        [
         "default.boletos_mistos",
         "2023-10-30"
        ],
        [
         "default.boletos_mistos",
         "2023-10-31"
        ],
        [
         "default.boletos_mistos",
         "2023-11-01"
        ],
        [
         "default.boletos_mistos",
         "2023-11-04"
        ],
        [
         "default.boletos_mistos",
         "2023-11-05"
        ],
        [
         "default.boletos_mistos",
         "2023-11-06"
        ],
        [
         "default.boletos_mistos",
         "2023-11-09"
        ],
        [
         "default.boletos_mistos",
         "2023-11-14"
        ],
        [
         "default.boletos_mistos",
         "2023-11-15"
        ],
        [
         "default.boletos_mistos",
         "2023-11-17"
        ],
        [
         "default.boletos_mistos",
         "2023-11-21"
        ],
        [
         "default.boletos_mistos",
         "2023-11-23"
        ],
        [
         "default.boletos_mistos",
         "2023-11-24"
        ],
        [
         "default.boletos_mistos",
         "2023-11-29"
        ],
        [
         "default.boletos_mistos",
         "2023-12-01"
        ],
        [
         "default.boletos_mistos",
         "2023-12-02"
        ],
        [
         "default.boletos_mistos",
         "2023-12-09"
        ],
        [
         "default.boletos_mistos",
         "2023-12-11"
        ],
        [
         "default.boletos_mistos",
         "2023-12-14"
        ],
        [
         "default.boletos_mistos",
         "2024-01-04"
        ],
        [
         "default.boletos_mistos",
         "2024-01-08"
        ],
        [
         "default.boletos_mistos",
         "2024-01-12"
        ],
        [
         "default.boletos_mistos",
         "2024-01-14"
        ],
        [
         "default.boletos_mistos",
         "2024-01-18"
        ],
        [
         "default.boletos_mistos",
         "2024-01-25"
        ],
        [
         "default.boletos_mistos",
         "2024-02-29"
        ],
        [
         "default.boletos_mistos",
         "2024-03-02"
        ],
        [
         "default.boletos_mistos",
         "2024-03-05"
        ],
        [
         "default.boletos_mistos",
         "2024-03-15"
        ],
        [
         "default.boletos_mistos",
         "2024-03-18"
        ],
        [
         "default.boletos_mistos",
         "2024-03-22"
        ],
        [
         "default.boletos_mistos",
         "2024-03-24"
        ],
        [
         "default.boletos_mistos",
         "2024-03-26"
        ],
        [
         "default.boletos_mistos",
         "2024-03-27"
        ],
        [
         "default.boletos_mistos",
         "2024-04-01"
        ],
        [
         "default.boletos_mistos",
         "2024-04-02"
        ],
        [
         "default.boletos_mistos",
         "2024-04-03"
        ],
        [
         "default.boletos_mistos",
         "2024-04-05"
        ],
        [
         "default.boletos_mistos",
         "2024-04-10"
        ],
        [
         "default.boletos_mistos",
         "2024-04-11"
        ],
        [
         "default.boletos_mistos",
         "2024-04-13"
        ],
        [
         "default.boletos_mistos",
         "2024-04-14"
        ],
        [
         "default.boletos_mistos",
         "2024-04-18"
        ],
        [
         "default.boletos_mistos",
         "2024-04-20"
        ],
        [
         "default.boletos_mistos",
         "2024-04-23"
        ],
        [
         "default.boletos_mistos",
         "2024-04-24"
        ],
        [
         "default.boletos_mistos",
         "2024-04-27"
        ],
        [
         "default.boletos_mistos",
         "2024-04-30"
        ],
        [
         "default.boletos_mistos",
         "2024-05-01"
        ],
        [
         "default.boletos_mistos",
         "2024-05-03"
        ],
        [
         "default.boletos_mistos",
         "2024-05-10"
        ],
        [
         "default.boletos_mistos",
         "2024-05-11"
        ],
        [
         "default.boletos_mistos",
         "2024-05-16"
        ],
        [
         "default.boletos_mistos",
         "2024-05-17"
        ],
        [
         "default.boletos_mistos",
         "2024-05-20"
        ],
        [
         "default.boletos_mistos",
         "2024-05-25"
        ],
        [
         "default.boletos_mistos",
         "2024-05-26"
        ],
        [
         "default.boletos_mistos",
         "2024-05-29"
        ],
        [
         "default.boletos_mistos",
         "2024-06-04"
        ],
        [
         "default.boletos_mistos",
         "2024-06-09"
        ],
        [
         "default.boletos_mistos",
         "2024-07-11"
        ],
        [
         "default.boletos_mistos",
         "2024-07-12"
        ],
        [
         "default.boletos_mistos",
         "2024-07-14"
        ],
        [
         "default.boletos_mistos",
         "2024-07-15"
        ],
        [
         "default.boletos_mistos",
         "2024-07-16"
        ],
        [
         "default.boletos_mistos",
         "2024-07-18"
        ],
        [
         "default.boletos_mistos",
         "2024-07-20"
        ],
        [
         "default.boletos_mistos",
         "2024-07-23"
        ],
        [
         "default.boletos_mistos",
         "2024-07-24"
        ],
        [
         "default.boletos_mistos",
         "2024-07-25"
        ],
        [
         "default.boletos_mistos",
         "2024-07-31"
        ],
        [
         "default.boletos_mistos",
         "2024-08-01"
        ],
        [
         "default.boletos_mistos",
         "2024-08-07"
        ]
       ],
       "datasetInfos": [],
       "dbfsResultPath": null,
       "isJsonSchema": true,
       "metadata": {},
       "overflow": false,
       "plotOptions": {
        "customPlotOptions": {},
        "displayType": "table",
        "pivotAggregation": null,
        "pivotColumns": null,
        "xColumns": null,
        "yColumns": null
       },
       "removedWidgets": [],
       "schema": [
        {
         "metadata": "{}",
         "name": "caminho_tabela",
         "type": "\"string\""
        },
        {
         "metadata": "{}",
         "name": "digtao_ptcao",
         "type": "\"string\""
        }
       ],
       "type": "table"
      }
     },
     "output_type": "display_data"
    }
   ],
   "source": [
    "display(spark_session.table(\"default.tbleto_emtd_ctrl\"))"
   ]
  },
  {
   "cell_type": "code",
   "execution_count": 0,
   "metadata": {
    "application/vnd.databricks.v1+cell": {
     "cellMetadata": {
      "byteLimit": 2048000,
      "rowLimit": 10000
     },
     "inputWidgets": {},
     "nuid": "f48138fc-233f-4006-ab30-1c83ffb8f757",
     "showTitle": false,
     "title": ""
    }
   },
   "outputs": [
    {
     "output_type": "stream",
     "name": "stdout",
     "output_type": "stream",
     "text": [
      "[2024-09-22 23:37:42.874794] - Início\n[2024-09-22 23:37:47.860957] - Fim\n"
     ]
    }
   ],
   "source": [
    "mt_log(\"Início\")\n",
    "\n",
    "spark_session.createDataFrame(\n",
    "    [],\n",
    "    schema = t.StructType([\n",
    "        t.StructField(\"cidtfd_bleto\", t.StringType(), False),\n",
    "        t.StructField(\"pk_1\", t.IntegerType(), False),\n",
    "        t.StructField(\"pk_2\", t.IntegerType(), False),\n",
    "        t.StructField(\"pk_3\", t.IntegerType(), False),\n",
    "        t.StructField(\"pk_4\", t.IntegerType(), False),\n",
    "        t.StructField(\"pk_5\", t.IntegerType(), False),\n",
    "        t.StructField(\"value\", t.FloatType(), False),\n",
    "        t.StructField(\"expire_date\", t.DateType(), False),\n",
    "        t.StructField(\"qr_code\", t.StringType(), False),\n",
    "        t.StructField(\"digtao_ptcao_boletos_mistos\", t.StringType(), False),\n",
    "        t.StructField(\"digtao_ptcao_titulos_pend\", t.StringType(), False)\n",
    "    ])\n",
    ").write.partitionBy(\"expire_date\").saveAsTable(\"tbleto_emtd\")\n",
    "\n",
    "mt_log(\"Fim\")"
   ]
  },
  {
   "cell_type": "code",
   "execution_count": 0,
   "metadata": {
    "application/vnd.databricks.v1+cell": {
     "cellMetadata": {
      "byteLimit": 2048000,
      "rowLimit": 10000
     },
     "inputWidgets": {},
     "nuid": "e5ebced6-63df-4d76-a204-41481f96b272",
     "showTitle": false,
     "title": ""
    }
   },
   "outputs": [
    {
     "output_type": "execute_result",
     "data": {
      "text/plain": [
       "DataFrame[]"
      ]
     },
     "execution_count": 94,
     "metadata": {},
     "output_type": "execute_result"
    }
   ],
   "source": [
    "spark_session.sql(\"drop table default.tbleto_emtd\")"
   ]
  },
  {
   "cell_type": "code",
   "execution_count": 0,
   "metadata": {
    "application/vnd.databricks.v1+cell": {
     "cellMetadata": {
      "byteLimit": 2048000,
      "rowLimit": 10000
     },
     "inputWidgets": {},
     "nuid": "4a9d55d0-706b-4bc6-9a06-f703b2749913",
     "showTitle": false,
     "title": ""
    }
   },
   "outputs": [
    {
     "output_type": "display_data",
     "data": {
      "text/html": [
       "<style scoped>\n",
       "  .ansiout {\n",
       "    display: block;\n",
       "    unicode-bidi: embed;\n",
       "    white-space: pre-wrap;\n",
       "    word-wrap: break-word;\n",
       "    word-break: break-all;\n",
       "    font-family: \"Menlo\", \"Monaco\", \"Consolas\", \"Ubuntu Mono\", \"Source Code Pro\", monospace;\n",
       "    font-size: 13px;\n",
       "    color: #555;\n",
       "    margin-left: 4px;\n",
       "    line-height: 19px;\n",
       "  }\n",
       "</style>\n",
       "<div class=\"ansiout\">res1: Boolean = true\n",
       "</div>"
      ]
     },
     "metadata": {
      "application/vnd.databricks.v1+output": {
       "addedWidgets": {},
       "arguments": {},
       "data": "<div class=\"ansiout\">res1: Boolean = true\n</div>",
       "datasetInfos": [],
       "metadata": {
        "isDbfsCommandResult": false
       },
       "removedWidgets": [],
       "type": "html"
      }
     },
     "output_type": "display_data"
    }
   ],
   "source": [
    "%fs rm -r dbfs:/user/hive/warehouse/tbleto_emtd_ctrl"
   ]
  }
 ],
 "metadata": {
  "application/vnd.databricks.v1+notebook": {
   "dashboards": [],
   "environmentMetadata": null,
   "language": "python",
   "notebookMetadata": {
    "mostRecentlyExecutedCommandWithImplicitDF": {
     "commandId": 4097984078899366,
     "dataframes": [
      "_sqldf"
     ]
    },
    "pythonIndentUnit": 4
   },
   "notebookName": "Boletos emitidos",
   "widgets": {}
  }
 },
 "nbformat": 4,
 "nbformat_minor": 0
}
